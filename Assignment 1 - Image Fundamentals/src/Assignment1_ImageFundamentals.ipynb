{
 "cells": [
  {
   "cell_type": "markdown",
   "id": "91bfcdf8",
   "metadata": {},
   "source": [
    "# Assignment 1 - Search\n",
    "\n",
    "Class: COMP 5970 - Image Fundamentals\n",
    "\n",
    "Author: Chris Hinkson\n",
    "\n",
    "Email: cmh0201@auburn.edu"
   ]
  }
 ],
 "metadata": {
  "language_info": {
   "name": "python"
  }
 },
 "nbformat": 4,
 "nbformat_minor": 5
}
